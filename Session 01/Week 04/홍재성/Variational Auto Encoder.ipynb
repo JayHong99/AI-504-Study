{
 "cells": [
  {
   "cell_type": "markdown",
   "metadata": {},
   "source": [
    "# Library"
   ]
  },
  {
   "cell_type": "code",
   "execution_count": 1,
   "metadata": {},
   "outputs": [],
   "source": [
    "import numpy as np\n",
    "import torch\n",
    "import torch.nn as nn\n",
    "import torch.optim as optim\n",
    "import torch.nn.init as init\n",
    "import torchvision.datasets as dset\n",
    "import torchvision.transforms as transforms\n",
    "from torch.utils.data import DataLoader\n",
    "\n",
    "torch.backends.cudnn.enabled = False\n",
    "torch.backends.cudnn.benchmark = False\n",
    "\n",
    "import matplotlib.pyplot as plt\n",
    "\n",
    "import os\n",
    "os.environ['CUDA_VISIBLE_DEVICES'] = '0' \n",
    "\n",
    "import warnings\n",
    "warnings.filterwarnings('ignore')\n",
    "warnings.simplefilter('ignore')\n",
    "\n",
    "device = 'cuda:0' if torch.cuda.is_available() else 'cpu'\n",
    "\n",
    "import random\n",
    "\n",
    "random.seed(777)\n",
    "torch.manual_seed(777)\n",
    "if device == 'cuda':\n",
    "    torch.cuda.manual_seed_all(777)"
   ]
  },
  {
   "cell_type": "markdown",
   "metadata": {},
   "source": [
    "# Load Data"
   ]
  },
  {
   "cell_type": "code",
   "execution_count": 2,
   "metadata": {},
   "outputs": [],
   "source": [
    "batch_size = 2048\n",
    "\n",
    "fmnist_train = dset.FashionMNIST(\"./\", train=True, transform=transforms.ToTensor(), target_transform=None, download=True)\n",
    "fmnist_test = dset.FashionMNIST(\"./\", train=False, transform=transforms.ToTensor(), target_transform=None, download=True)"
   ]
  },
  {
   "cell_type": "code",
   "execution_count": 3,
   "metadata": {},
   "outputs": [],
   "source": [
    "class FC_Block(nn.Module) : \n",
    "    def __init__(self, input_dim, output_dim) : \n",
    "        super(FC_Block, self).__init__()\n",
    "\n",
    "        self.linear = nn.Linear(input_dim, output_dim, bias = True)\n",
    "        self.relu = nn.functional.relu\n",
    "        self.batch_norm = nn.BatchNorm1d(output_dim)\n",
    "        self.dropout = nn.Dropout(0.1)\n",
    "    \n",
    "    def forward(self, x) : \n",
    "        x = self.linear(x)\n",
    "        x = self.relu(x)\n",
    "        x = self.batch_norm(x)\n",
    "        x = self.dropout(x)\n",
    "        return x"
   ]
  },
  {
   "cell_type": "code",
   "execution_count": 4,
   "metadata": {},
   "outputs": [],
   "source": [
    "class VAE(nn.Module) : \n",
    "    def __init__(self) : \n",
    "        super(VAE,self).__init__()\n",
    "        self.encoder = nn.Sequential(\n",
    "            FC_Block(28*28, 256),\n",
    "            FC_Block(256,64),\n",
    "            FC_Block(64,32)\n",
    "        )\n",
    "        self.fc_mu = nn.Linear(32,10)\n",
    "        self.fc_sigma = nn.Linear(32,10)\n",
    "        self.decoder = nn.Sequential(\n",
    "            FC_Block(10,32),\n",
    "            FC_Block(32,64),\n",
    "            FC_Block(64,256),\n",
    "            nn.Linear(256, 28*28),\n",
    "            nn.Sigmoid()\n",
    "        )\n",
    "\n",
    "    def encode(self, x) : \n",
    "        h = self.encoder(x)\n",
    "        mu = self.fc_mu(h)\n",
    "        sigma = self.fc_sigma(h)\n",
    "        return mu, sigma\n",
    "\n",
    "    def reparam(self, mu, sigma) : \n",
    "        std = torch.exp(0.5 * sigma)\n",
    "        eps = torch.randn_like(std)\n",
    "\n",
    "        return mu + std * eps\n",
    "    \n",
    "    def decode(self, x) : \n",
    "        reconstruction = self.decoder(x)\n",
    "        return reconstruction\n",
    "\n",
    "    def forward(self, x ) : \n",
    "        x = x.view(-1,28*28)\n",
    "        mu, sigma= self.encode(x)\n",
    "        z = self.reparam(mu, sigma)\n",
    "        recons = self.decode(z)\n",
    "        return recons, mu, sigma"
   ]
  },
  {
   "cell_type": "code",
   "execution_count": 5,
   "metadata": {},
   "outputs": [],
   "source": [
    "def saveModel(path):\n",
    "    torch.save(model.state_dict(), path)"
   ]
  },
  {
   "cell_type": "code",
   "execution_count": 6,
   "metadata": {},
   "outputs": [],
   "source": [
    "def train_model(model, dataloaders, criterion, optimizer, num_epochs, early_stop, path) : \n",
    "    import time\n",
    "\n",
    "    since = time.time()\n",
    "    best_loss = 1e+5\n",
    "    early_stop_epoch = 0\n",
    "    \n",
    "\n",
    "    for epoch in range(num_epochs) : \n",
    "\n",
    "        for phase in ['train','valid'] : \n",
    "            if phase == 'train' : \n",
    "                model.train()\n",
    "            elif phase == 'valid' : \n",
    "                model.eval()\n",
    "\n",
    "            running_loss = 0\n",
    "\n",
    "            for x,_ in dataloaders[phase] : \n",
    "                x = x.to(device)\n",
    "                optimizer.zero_grad()\n",
    "                with torch.set_grad_enabled(phase =='train') : \n",
    "                    output, mu, sigma = model(x)\n",
    "                    loss = criterion(x, output, mu, sigma)\n",
    "\n",
    "                    if phase == 'train' : \n",
    "                        \n",
    "                        loss.backward()\n",
    "                        optimizer.step()\n",
    "                running_loss += loss.item()\n",
    "\n",
    "            epoch_loss = running_loss / len(dataloaders[phase].dataset)\n",
    "\n",
    "            if phase == 'valid' and epoch_loss < best_loss : \n",
    "                print(f'On Epoch {epoch}, Best Model Saved with Valid Loss {round(epoch_loss, 4)}')\n",
    "                \n",
    "                best_loss = epoch_loss\n",
    "                saveModel(path)\n",
    "                early_stop_epoch = 0\n",
    "            elif phase == 'valid' : \n",
    "                early_stop_epoch += 1\n",
    "\n",
    "        if early_stop_epoch >= early_stop : \n",
    "            \"Early Stop Occured\"\n",
    "            break;\n",
    "    time_elapsed = time.time() - since\n",
    "    print(f'Training Complete in {time_elapsed//60}min {time_elapsed%60}sec')\n",
    "\n",
    "\n",
    "    model.load_state_dict(torch.load(path))\n",
    "    return model\n"
   ]
  },
  {
   "cell_type": "code",
   "execution_count": 7,
   "metadata": {},
   "outputs": [],
   "source": [
    "def loss_fn(input, output, mu, log_var):\n",
    "    BCE_loss = BCE(output, input.view(-1,28*28))\n",
    "    KLD_loss = -0.5 * torch.sum(1 + log_var - mu.pow(2) - log_var.exp())\n",
    "    return BCE_loss + KLD_loss"
   ]
  },
  {
   "cell_type": "code",
   "execution_count": 8,
   "metadata": {},
   "outputs": [],
   "source": [
    "def return_dataloaders(train_idx, valid_idx) : \n",
    "    train_subsampler = torch.utils.data.SubsetRandomSampler(train_idx)\n",
    "    valid_subsampler = torch.utils.data.SubsetRandomSampler(valid_idx)\n",
    "\n",
    "    train_data = DataLoader(dataset=fmnist_train, batch_size = batch_size, sampler = train_subsampler)\n",
    "    valid_data = DataLoader(dataset=fmnist_train, batch_size = batch_size, sampler = valid_subsampler)\n",
    "    test_data  = DataLoader(dataset = fmnist_test, batch_size  = batch_size , shuffle = False)\n",
    "    \n",
    "\n",
    "    dataloaders = {}\n",
    "    dataloaders['train'] = train_data\n",
    "    dataloaders['valid'] = valid_data\n",
    "    dataloaders['test'] = test_data\n",
    "    return dataloaders"
   ]
  },
  {
   "cell_type": "code",
   "execution_count": 9,
   "metadata": {},
   "outputs": [],
   "source": [
    "from sklearn.model_selection import StratifiedKFold\n",
    "\n",
    "n_split = 5\n",
    "skf = StratifiedKFold(n_splits = n_split, shuffle = True)\n",
    "BCE = nn.BCELoss(reduction='sum')"
   ]
  },
  {
   "cell_type": "code",
   "execution_count": 10,
   "metadata": {},
   "outputs": [
    {
     "name": "stdout",
     "output_type": "stream",
     "text": [
      "On Epoch 0, Best Model Saved with Valid Loss 102.712\n",
      "On Epoch 1, Best Model Saved with Valid Loss 87.0366\n",
      "On Epoch 2, Best Model Saved with Valid Loss 68.9334\n",
      "On Epoch 3, Best Model Saved with Valid Loss 60.8048\n",
      "On Epoch 4, Best Model Saved with Valid Loss 58.2337\n",
      "On Epoch 5, Best Model Saved with Valid Loss 57.2476\n",
      "On Epoch 6, Best Model Saved with Valid Loss 56.5279\n",
      "On Epoch 7, Best Model Saved with Valid Loss 56.0547\n",
      "On Epoch 8, Best Model Saved with Valid Loss 55.6402\n",
      "On Epoch 9, Best Model Saved with Valid Loss 55.1538\n",
      "On Epoch 10, Best Model Saved with Valid Loss 54.7257\n",
      "On Epoch 11, Best Model Saved with Valid Loss 54.3664\n",
      "On Epoch 12, Best Model Saved with Valid Loss 53.9746\n",
      "On Epoch 13, Best Model Saved with Valid Loss 53.6624\n",
      "On Epoch 14, Best Model Saved with Valid Loss 53.2954\n",
      "On Epoch 15, Best Model Saved with Valid Loss 53.0786\n",
      "On Epoch 16, Best Model Saved with Valid Loss 52.8538\n",
      "On Epoch 17, Best Model Saved with Valid Loss 52.6364\n",
      "On Epoch 18, Best Model Saved with Valid Loss 52.4738\n",
      "On Epoch 19, Best Model Saved with Valid Loss 52.3234\n",
      "On Epoch 20, Best Model Saved with Valid Loss 52.235\n",
      "On Epoch 21, Best Model Saved with Valid Loss 52.0824\n",
      "On Epoch 22, Best Model Saved with Valid Loss 51.9718\n",
      "On Epoch 23, Best Model Saved with Valid Loss 51.8281\n",
      "On Epoch 24, Best Model Saved with Valid Loss 51.7681\n",
      "On Epoch 25, Best Model Saved with Valid Loss 51.6593\n",
      "On Epoch 26, Best Model Saved with Valid Loss 51.5498\n",
      "On Epoch 27, Best Model Saved with Valid Loss 51.4654\n",
      "On Epoch 28, Best Model Saved with Valid Loss 51.3624\n",
      "On Epoch 29, Best Model Saved with Valid Loss 51.2998\n",
      "On Epoch 30, Best Model Saved with Valid Loss 51.1698\n",
      "On Epoch 31, Best Model Saved with Valid Loss 51.1412\n",
      "On Epoch 32, Best Model Saved with Valid Loss 51.0239\n",
      "On Epoch 33, Best Model Saved with Valid Loss 50.997\n",
      "On Epoch 34, Best Model Saved with Valid Loss 50.8697\n",
      "On Epoch 35, Best Model Saved with Valid Loss 50.8222\n",
      "On Epoch 36, Best Model Saved with Valid Loss 50.7857\n",
      "On Epoch 37, Best Model Saved with Valid Loss 50.7299\n",
      "On Epoch 38, Best Model Saved with Valid Loss 50.6362\n",
      "On Epoch 39, Best Model Saved with Valid Loss 50.6092\n",
      "On Epoch 40, Best Model Saved with Valid Loss 50.5557\n",
      "On Epoch 41, Best Model Saved with Valid Loss 50.4728\n",
      "On Epoch 43, Best Model Saved with Valid Loss 50.4199\n",
      "On Epoch 44, Best Model Saved with Valid Loss 50.3729\n",
      "On Epoch 45, Best Model Saved with Valid Loss 50.335\n",
      "On Epoch 47, Best Model Saved with Valid Loss 50.262\n",
      "On Epoch 48, Best Model Saved with Valid Loss 50.2194\n",
      "On Epoch 49, Best Model Saved with Valid Loss 50.1842\n",
      "On Epoch 50, Best Model Saved with Valid Loss 50.1837\n",
      "On Epoch 52, Best Model Saved with Valid Loss 50.1032\n",
      "On Epoch 53, Best Model Saved with Valid Loss 50.0966\n",
      "On Epoch 54, Best Model Saved with Valid Loss 50.0688\n",
      "On Epoch 55, Best Model Saved with Valid Loss 50.0493\n",
      "On Epoch 56, Best Model Saved with Valid Loss 50.0225\n",
      "On Epoch 58, Best Model Saved with Valid Loss 49.9803\n",
      "On Epoch 59, Best Model Saved with Valid Loss 49.9516\n",
      "On Epoch 60, Best Model Saved with Valid Loss 49.9316\n",
      "On Epoch 61, Best Model Saved with Valid Loss 49.9233\n",
      "On Epoch 62, Best Model Saved with Valid Loss 49.8801\n",
      "On Epoch 63, Best Model Saved with Valid Loss 49.8601\n",
      "On Epoch 65, Best Model Saved with Valid Loss 49.8266\n",
      "On Epoch 67, Best Model Saved with Valid Loss 49.8208\n",
      "On Epoch 68, Best Model Saved with Valid Loss 49.8008\n",
      "On Epoch 69, Best Model Saved with Valid Loss 49.7729\n",
      "On Epoch 70, Best Model Saved with Valid Loss 49.7385\n",
      "On Epoch 71, Best Model Saved with Valid Loss 49.7347\n",
      "On Epoch 72, Best Model Saved with Valid Loss 49.7321\n",
      "On Epoch 73, Best Model Saved with Valid Loss 49.7304\n",
      "On Epoch 74, Best Model Saved with Valid Loss 49.6843\n",
      "On Epoch 75, Best Model Saved with Valid Loss 49.6596\n",
      "On Epoch 78, Best Model Saved with Valid Loss 49.6475\n",
      "On Epoch 80, Best Model Saved with Valid Loss 49.6018\n",
      "On Epoch 82, Best Model Saved with Valid Loss 49.5741\n",
      "On Epoch 83, Best Model Saved with Valid Loss 49.5576\n",
      "On Epoch 85, Best Model Saved with Valid Loss 49.5102\n",
      "On Epoch 87, Best Model Saved with Valid Loss 49.4688\n",
      "On Epoch 90, Best Model Saved with Valid Loss 49.4464\n",
      "On Epoch 91, Best Model Saved with Valid Loss 49.4196\n",
      "On Epoch 92, Best Model Saved with Valid Loss 49.4007\n",
      "On Epoch 93, Best Model Saved with Valid Loss 49.3985\n",
      "On Epoch 96, Best Model Saved with Valid Loss 49.3645\n",
      "On Epoch 97, Best Model Saved with Valid Loss 49.3373\n",
      "On Epoch 98, Best Model Saved with Valid Loss 49.3226\n",
      "On Epoch 99, Best Model Saved with Valid Loss 49.3078\n",
      "Training Complete in 7.0min 49.82466006278992sec\n"
     ]
    }
   ],
   "source": [
    "trained_weights = []\n",
    "for fold_num, (train_idx, valid_idx) in enumerate(skf.split(np.arange(fmnist_train.__len__()), fmnist_train.targets)) : \n",
    "    path = f'VAE_{fold_num}.pth'\n",
    "    model = VAE().to(device)\n",
    "    optimizer = optim.Adam(model.parameters(), lr = 1e-3)\n",
    "    dataloader = return_dataloaders(train_idx, valid_idx)\n",
    "    trained_model = train_model(model, dataloader, loss_fn, optimizer, 100, 5, path)\n",
    "    trained_weights.append(path)\n",
    "    break;"
   ]
  },
  {
   "cell_type": "markdown",
   "metadata": {},
   "source": [
    "# Visualization"
   ]
  },
  {
   "cell_type": "markdown",
   "metadata": {},
   "source": [
    "## Image Reconstruction"
   ]
  },
  {
   "cell_type": "code",
   "execution_count": 11,
   "metadata": {},
   "outputs": [
    {
     "name": "stdout",
     "output_type": "stream",
     "text": [
      "248.386490625\n"
     ]
    }
   ],
   "source": [
    "with torch.no_grad() : \n",
    "    running_loss = 0.0\n",
    "    for x,_ in dataloader['test'] : \n",
    "        x = x.to(device)\n",
    "\n",
    "        recon, mu, sigma = trained_model(x)\n",
    "        test_loss = loss_fn(x, recon, mu, sigma)\n",
    "        running_loss += test_loss.item()\n",
    "\n",
    "    test_loss = running_loss / len(dataloader['test'].dataset)\n",
    "    print(test_loss)"
   ]
  },
  {
   "cell_type": "code",
   "execution_count": 12,
   "metadata": {},
   "outputs": [
    {
     "name": "stdout",
     "output_type": "stream",
     "text": [
      "torch.Size([1808, 784])\n"
     ]
    },
    {
     "data": {
      "image/png": "[encoded data removed]",
      "text/plain": [
       "<Figure size 432x288 with 2 Axes>"
      ]
     },
     "metadata": {
      "needs_background": "light"
     },
     "output_type": "display_data"
    },
    {
     "data": {
      "image/png": "[encoded data removed]",
      "text/plain": [
       "<Figure size 432x288 with 2 Axes>"
      ]
     },
     "metadata": {
      "needs_background": "light"
     },
     "output_type": "display_data"
    },
    {
     "data": {
      "image/png": "[encoded data removed]",
      "text/plain": [
       "<Figure size 432x288 with 2 Axes>"
      ]
     },
     "metadata": {
      "needs_background": "light"
     },
     "output_type": "display_data"
    },
    {
     "data": {
      "image/png": "[encoded data removed]",
      "text/plain": [
       "<Figure size 432x288 with 2 Axes>"
      ]
     },
     "metadata": {
      "needs_background": "light"
     },
     "output_type": "display_data"
    },
    {
     "data": {
      "image/png": "[encoded data removed]",
      "text/plain": [
       "<Figure size 432x288 with 2 Axes>"
      ]
     },
     "metadata": {
      "needs_background": "light"
     },
     "output_type": "display_data"
    }
   ],
   "source": [
    "recon_img = torch.squeeze(recon.cpu().data)\n",
    "print(recon_img.size())\n",
    "\n",
    "for i in range(5):\n",
    "    plt.subplot(1,2,1)\n",
    "    plt.imshow(torch.squeeze(x[i]).cpu().numpy(),cmap='gray')\n",
    "    plt.subplot(1,2,2)\n",
    "    plt.imshow(recon_img[i].numpy().reshape(28, 28),cmap='gray')\n",
    "    plt.show()"
   ]
  },
  {
   "cell_type": "markdown",
   "metadata": {},
   "source": [
    "## VAE의 특징 확인하기\n",
    "\n",
    "- VAE는 데이터의 분포를 학습함\n",
    "- 따라서, 두 서로 다른 이미지 사이의 분포를 가진 이미지는 두 이미지의 특징을 모두 가지고 있음"
   ]
  },
  {
   "cell_type": "code",
   "execution_count": 13,
   "metadata": {},
   "outputs": [],
   "source": [
    "train_dataset_array = fmnist_train.data.numpy()\n",
    "train_dataset_array = np.float32(train_dataset_array)\n",
    "labels = fmnist_train.targets.numpy()"
   ]
  },
  {
   "cell_type": "code",
   "execution_count": 14,
   "metadata": {},
   "outputs": [],
   "source": [
    "subset_indices = []\n",
    "subset_indices_per_class = []\n",
    "\n",
    "for i in range(10):\n",
    "    indices = np.where(labels == i)[0]\n",
    "    subset_size = len(indices) // 6\n",
    "    subset_indices += indices[:subset_size].tolist()\n",
    "    subset_indices_per_class.append(indices[:subset_size].tolist())\n",
    "\n",
    "train_dataset_array = train_dataset_array[subset_indices]\n",
    "labels = labels[subset_indices]"
   ]
  },
  {
   "cell_type": "code",
   "execution_count": 15,
   "metadata": {},
   "outputs": [
    {
     "name": "stdout",
     "output_type": "stream",
     "text": [
      "10000\n"
     ]
    }
   ],
   "source": [
    "print(len(train_dataset_array))\n",
    "train_dataset_array = torch.tensor(train_dataset_array)\n",
    "inputs = train_dataset_array.to(device)\n",
    "outputs, mu, log_var = trained_model(inputs)\n",
    "encoded = mu.cpu().detach().numpy()"
   ]
  },
  {
   "cell_type": "code",
   "execution_count": 16,
   "metadata": {},
   "outputs": [],
   "source": [
    "mean_encoded = []\n",
    "for i in range(10):\n",
    "    mean_encoded.append(encoded[np.where(labels == i)[0]].mean(axis=0))"
   ]
  },
  {
   "cell_type": "code",
   "execution_count": 19,
   "metadata": {},
   "outputs": [
    {
     "data": {
      "image/png": "[encoded data removed]",
      "text/plain": [
       "<Figure size 864x720 with 1 Axes>"
      ]
     },
     "metadata": {
      "needs_background": "light"
     },
     "output_type": "display_data"
    }
   ],
   "source": [
    "selected_class = [0, 2]\n",
    "samples = []\n",
    "with torch.no_grad():\n",
    "    for idx, coef in enumerate(np.linspace(0, 1, 10)):\n",
    "        interpolated = coef * mean_encoded[selected_class[0]] + (1.-coef) * mean_encoded[selected_class[1]]\n",
    "        samples.append(interpolated)\n",
    "    samples = np.stack(samples)\n",
    "    z = torch.tensor(samples).to(device)\n",
    "    generated = trained_model.decoder(z).cuda()\n",
    "from torchvision.utils import make_grid\n",
    "generated = generated.view(10, 1, 28, 28)\n",
    "plt.figure(figsize = (12,10))\n",
    "img = make_grid(generated, nrow=10)\n",
    "npimg = img.cpu().numpy()\n",
    "plt.imshow(np.transpose(npimg, (1,2,0)), interpolation='nearest')\n",
    "plt.show()"
   ]
  }
 ],
 "metadata": {
  "interpreter": {
   "hash": "b3ba2566441a7c06988d0923437866b63cedc61552a5af99d1f4fb67d367b25f"
  },
  "kernelspec": {
   "display_name": "Python 3.8.8 64-bit ('base': conda)",
   "language": "python",
   "name": "python3"
  },
  "language_info": {
   "codemirror_mode": {
    "name": "ipython",
    "version": 3
   },
   "file_extension": ".py",
   "mimetype": "text/x-python",
   "name": "python",
   "nbconvert_exporter": "python",
   "pygments_lexer": "ipython3",
   "version": "3.8.8"
  },
  "orig_nbformat": 4
 },
 "nbformat": 4,
 "nbformat_minor": 2
}
